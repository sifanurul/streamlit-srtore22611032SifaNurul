{
 "cells": [
  {
   "cell_type": "code",
   "execution_count": 1,
   "metadata": {},
   "outputs": [
    {
     "name": "stdout",
     "output_type": "stream",
     "text": [
      "<class 'pandas.core.frame.DataFrame'>\n",
      "RangeIndex: 768 entries, 0 to 767\n",
      "Data columns (total 9 columns):\n",
      " #   Column                    Non-Null Count  Dtype  \n",
      "---  ------                    --------------  -----  \n",
      " 0   Pregnancies               768 non-null    int64  \n",
      " 1   Glucose                   768 non-null    int64  \n",
      " 2   BloodPressure             768 non-null    int64  \n",
      " 3   SkinThickness             768 non-null    int64  \n",
      " 4   Insulin                   768 non-null    int64  \n",
      " 5   BMI                       768 non-null    float64\n",
      " 6   DiabetesPedigreeFunction  768 non-null    float64\n",
      " 7   Age                       768 non-null    int64  \n",
      " 8   Outcome                   768 non-null    int64  \n",
      "dtypes: float64(2), int64(7)\n",
      "memory usage: 54.1 KB\n",
      "None\n",
      "       Pregnancies     Glucose  BloodPressure  SkinThickness     Insulin  \\\n",
      "count   768.000000  768.000000     768.000000     768.000000  768.000000   \n",
      "mean      3.845052  120.894531      69.105469      20.536458   79.799479   \n",
      "std       3.369578   31.972618      19.355807      15.952218  115.244002   \n",
      "min       0.000000    0.000000       0.000000       0.000000    0.000000   \n",
      "25%       1.000000   99.000000      62.000000       0.000000    0.000000   \n",
      "50%       3.000000  117.000000      72.000000      23.000000   30.500000   \n",
      "75%       6.000000  140.250000      80.000000      32.000000  127.250000   \n",
      "max      17.000000  199.000000     122.000000      99.000000  846.000000   \n",
      "\n",
      "              BMI  DiabetesPedigreeFunction         Age     Outcome  \n",
      "count  768.000000                768.000000  768.000000  768.000000  \n",
      "mean    31.992578                  0.471876   33.240885    0.348958  \n",
      "std      7.884160                  0.331329   11.760232    0.476951  \n",
      "min      0.000000                  0.078000   21.000000    0.000000  \n",
      "25%     27.300000                  0.243750   24.000000    0.000000  \n",
      "50%     32.000000                  0.372500   29.000000    0.000000  \n",
      "75%     36.600000                  0.626250   41.000000    1.000000  \n",
      "max     67.100000                  2.420000   81.000000    1.000000  \n",
      "   Pregnancies  Glucose  BloodPressure  SkinThickness  Insulin   BMI  \\\n",
      "0            6      148             72             35        0  33.6   \n",
      "1            1       85             66             29        0  26.6   \n",
      "2            8      183             64              0        0  23.3   \n",
      "3            1       89             66             23       94  28.1   \n",
      "4            0      137             40             35      168  43.1   \n",
      "\n",
      "   DiabetesPedigreeFunction  Age  Outcome  \n",
      "0                     0.627   50        1  \n",
      "1                     0.351   31        0  \n",
      "2                     0.672   32        1  \n",
      "3                     0.167   21        0  \n",
      "4                     2.288   33        1  \n"
     ]
    }
   ],
   "source": [
    "import pandas as pd\n",
    "\n",
    "# Memuat dataset\n",
    "data = pd.read_csv('diabetes.csv')\n",
    "\n",
    "# Menampilkan informasi dasar tentang dataset\n",
    "print(data.info())\n",
    "print(data.describe())\n",
    "\n",
    "# Menampilkan beberapa baris pertama dataset\n",
    "print(data.head())\n"
   ]
  },
  {
   "cell_type": "code",
   "execution_count": 6,
   "metadata": {},
   "outputs": [
    {
     "name": "stdout",
     "output_type": "stream",
     "text": [
      "(768, 9)\n"
     ]
    }
   ],
   "source": [
    "from sklearn.preprocessing import StandardScaler, OneHotEncoder\n",
    "from sklearn.impute import SimpleImputer\n",
    "from sklearn.compose import ColumnTransformer\n",
    "from sklearn.pipeline import Pipeline\n",
    "\n",
    "# Mengidentifikasi kolom kategorikal dan numerik\n",
    "kolom_kategorikal = []  # Sesuaikan dengan nama kolom kategorikal yang ada di dataset Anda\n",
    "kolom_numerik = data.select_dtypes(include=['int64', 'float64']).columns.tolist()\n",
    "\n",
    "# Pipeline prapemrosesan untuk data numerik\n",
    "transformer_numerik = Pipeline(steps=[\n",
    "    ('imputer', SimpleImputer(strategy='mean')),\n",
    "    ('scaler', StandardScaler())\n",
    "])\n",
    "\n",
    "# Pipeline prapemrosesan untuk data kategorikal (jika ada)\n",
    "if kolom_kategorikal:\n",
    "    transformer_kategorikal = Pipeline(steps=[\n",
    "        ('imputer', SimpleImputer(strategy='constant', fill_value='missing')),\n",
    "        ('onehot', OneHotEncoder(handle_unknown='ignore'))\n",
    "    ])\n",
    "\n",
    "    # Menggabungkan pipeline prapemrosesan\n",
    "    prapemrosesan = ColumnTransformer(\n",
    "        transformers=[\n",
    "            ('num', transformer_numerik, kolom_numerik),\n",
    "            ('cat', transformer_kategorikal, kolom_kategorikal)\n",
    "        ])\n",
    "else:\n",
    "    prapemrosesan = ColumnTransformer(\n",
    "        transformers=[\n",
    "            ('num', transformer_numerik, kolom_numerik)\n",
    "        ])\n",
    "\n",
    "# Menerapkan prapemrosesan\n",
    "data_prapemrosesan = prapemrosesan.fit_transform(data)\n",
    "\n",
    "# Memeriksa hasil prapemrosesan\n",
    "print(data_prapemrosesan.shape)\n"
   ]
  },
  {
   "cell_type": "code",
   "execution_count": 7,
   "metadata": {},
   "outputs": [
    {
     "name": "stdout",
     "output_type": "stream",
     "text": [
      "Evaluasi Regresi Logistik: Akurasi=1.0, Presisi=1.0, Recall=1.0, F1-Score=1.0\n",
      "Evaluasi Pohon Keputusan: Akurasi=1.0, Presisi=1.0, Recall=1.0, F1-Score=1.0\n",
      "Evaluasi Naive Bayes: Akurasi=1.0, Presisi=1.0, Recall=1.0, F1-Score=1.0\n",
      "Model terbaik adalah Logistic Regression dengan evaluasi: Akurasi=1.0, Presisi=1.0, Recall=1.0, F1-Score=1.0\n",
      "Model terbaik (Logistic Regression) telah disimpan sebagai 'model_terbaik.sav'\n"
     ]
    }
   ],
   "source": [
    "from sklearn.model_selection import train_test_split\n",
    "from sklearn.linear_model import LogisticRegression\n",
    "from sklearn.tree import DecisionTreeClassifier\n",
    "from sklearn.naive_bayes import GaussianNB\n",
    "from sklearn.metrics import accuracy_score, precision_score, recall_score, f1_score\n",
    "import pickle\n",
    "\n",
    "# Misalkan target adalah kolom 'Outcome'\n",
    "X = data_prapemrosesan\n",
    "y = data['Outcome']\n",
    "\n",
    "# Membagi dataset menjadi set pelatihan dan pengujian\n",
    "X_train, X_test, y_train, y_test = train_test_split(X, y, test_size=0.2, random_state=42)\n",
    "\n",
    "# Melatih model Regresi Logistik\n",
    "model_lr = LogisticRegression()\n",
    "model_lr.fit(X_train, y_train)\n",
    "pred_lr = model_lr.predict(X_test)\n",
    "\n",
    "# Melatih model Pohon Keputusan\n",
    "model_dt = DecisionTreeClassifier()\n",
    "model_dt.fit(X_train, y_train)\n",
    "pred_dt = model_dt.predict(X_test)\n",
    "\n",
    "# Melatih model Naive Bayes\n",
    "model_nb = GaussianNB()\n",
    "model_nb.fit(X_train, y_train)\n",
    "pred_nb = model_nb.predict(X_test)\n",
    "\n",
    "# Evaluasi kinerja model\n",
    "def evaluasi_model(y_test, prediksi):\n",
    "    akurasi = accuracy_score(y_test, prediksi)\n",
    "    presisi = precision_score(y_test, prediksi, average='weighted')\n",
    "    recall = recall_score(y_test, prediksi, average='weighted')\n",
    "    f1 = f1_score(y_test, prediksi, average='weighted')\n",
    "    return akurasi, presisi, recall, f1\n",
    "\n",
    "# Evaluasi model Regresi Logistik\n",
    "evaluasi_lr = evaluasi_model(y_test, pred_lr)\n",
    "print(f\"Evaluasi Regresi Logistik: Akurasi={evaluasi_lr[0]}, Presisi={evaluasi_lr[1]}, Recall={evaluasi_lr[2]}, F1-Score={evaluasi_lr[3]}\")\n",
    "\n",
    "# Evaluasi model Pohon Keputusan\n",
    "evaluasi_dt = evaluasi_model(y_test, pred_dt)\n",
    "print(f\"Evaluasi Pohon Keputusan: Akurasi={evaluasi_dt[0]}, Presisi={evaluasi_dt[1]}, Recall={evaluasi_dt[2]}, F1-Score={evaluasi_dt[3]}\")\n",
    "\n",
    "# Evaluasi model Naive Bayes\n",
    "evaluasi_nb = evaluasi_model(y_test, pred_nb)\n",
    "print(f\"Evaluasi Naive Bayes: Akurasi={evaluasi_nb[0]}, Presisi={evaluasi_nb[1]}, Recall={evaluasi_nb[2]}, F1-Score={evaluasi_nb[3]}\")\n",
    "\n",
    "# Memilih model terbaik berdasarkan F1-score\n",
    "model_evaluations = {\n",
    "    'Logistic Regression': evaluasi_lr,\n",
    "    'Decision Tree': evaluasi_dt,\n",
    "    'Naive Bayes': evaluasi_nb\n",
    "}\n",
    "\n",
    "best_model_name = max(model_evaluations, key=lambda k: model_evaluations[k][3])\n",
    "best_model = {'Logistic Regression': model_lr, 'Decision Tree': model_dt, 'Naive Bayes': model_nb}[best_model_name]\n",
    "best_model_evaluation = model_evaluations[best_model_name]\n",
    "\n",
    "print(f\"Model terbaik adalah {best_model_name} dengan evaluasi: Akurasi={best_model_evaluation[0]}, Presisi={best_model_evaluation[1]}, Recall={best_model_evaluation[2]}, F1-Score={best_model_evaluation[3]}\")\n",
    "\n",
    "# Menyimpan model terbaik ke dalam file menggunakan pickle dengan ekstensi .sav\n",
    "with open('model_terbaik.sav', 'wb') as file:\n",
    "    pickle.dump(best_model, file)\n",
    "\n",
    "print(f\"Model terbaik ({best_model_name}) telah disimpan sebagai 'model_terbaik.sav'\")\n"
   ]
  },
  {
   "cell_type": "code",
   "execution_count": 8,
   "metadata": {},
   "outputs": [
    {
     "name": "stdout",
     "output_type": "stream",
     "text": [
      "Akurasi model yang dimuat: 1.0\n"
     ]
    }
   ],
   "source": [
    "# Memuat model terbaik dari file\n",
    "with open('model_terbaik.sav', 'rb') as file:\n",
    "    model_loaded = pickle.load(file)\n",
    "\n",
    "# Menggunakan model yang dimuat untuk membuat prediksi\n",
    "pred_loaded = model_loaded.predict(X_test)\n",
    "\n",
    "# Menghitung akurasi dari model yang dimuat\n",
    "akurasi_loaded = accuracy_score(y_test, pred_loaded)\n",
    "print(f\"Akurasi model yang dimuat: {akurasi_loaded}\")\n"
   ]
  },
  {
   "cell_type": "code",
   "execution_count": 9,
   "metadata": {},
   "outputs": [
    {
     "data": {
      "image/png": "[encoded data removed]",
      "text/plain": [
       "<Figure size 640x480 with 2 Axes>"
      ]
     },
     "metadata": {},
     "output_type": "display_data"
    }
   ],
   "source": [
    "import matplotlib.pyplot as plt\n",
    "from sklearn.metrics import confusion_matrix, ConfusionMatrixDisplay\n",
    "\n",
    "# Membuat Confusion Matrix\n",
    "cm_best = confusion_matrix(y_test, pred_loaded)\n",
    "disp_best = ConfusionMatrixDisplay(confusion_matrix=cm_best)\n",
    "\n",
    "# Menampilkan Confusion Matrix\n",
    "disp_best.plot(cmap=plt.cm.Blues)\n",
    "plt.title(f'Confusion Matrix - {best_model_name}')\n",
    "plt.show()\n"
   ]
  },
  {
   "cell_type": "code",
   "execution_count": 10,
   "metadata": {},
   "outputs": [
    {
     "data": {
      "image/png": "[encoded data removed]",
      "text/plain": [
       "<Figure size 640x480 with 1 Axes>"
      ]
     },
     "metadata": {},
     "output_type": "display_data"
    }
   ],
   "source": [
    "from sklearn.metrics import roc_curve, roc_auc_score\n",
    "\n",
    "# Membuat probabilitas prediksi\n",
    "y_prob_best = model_loaded.predict_proba(X_test)[:, 1]\n",
    "\n",
    "# Mengonversi label 'Outcome' menjadi 1 dan 0 jika perlu\n",
    "y_test_encoded = y_test  # Asumsikan label sudah dalam bentuk 0 dan 1\n",
    "\n",
    "# Membuat ROC Curve\n",
    "fpr, tpr, _ = roc_curve(y_test_encoded, y_prob_best)\n",
    "roc_auc = roc_auc_score(y_test_encoded, y_prob_best)\n",
    "\n",
    "plt.figure()\n",
    "plt.plot(fpr, tpr, color='darkorange', lw=2, label=f'ROC curve (area = {roc_auc:.2f})')\n",
    "plt.plot([0, 1], [0, 1], color='navy', lw=2, linestyle='--')\n",
    "plt.xlim([0.0, 1.0])\n",
    "plt.ylim([0.0, 1.05])\n",
    "plt.xlabel('False Positive Rate')\n",
    "plt.ylabel('True Positive Rate')\n",
    "plt.title(f'Receiver Operating Characteristic - {best_model_name}')\n",
    "plt.legend(loc='lower right')\n",
    "plt.show()\n"
   ]
  },
  {
   "cell_type": "code",
   "execution_count": 11,
   "metadata": {},
   "outputs": [
    {
     "name": "stdout",
     "output_type": "stream",
     "text": [
      "(768, 8)\n"
     ]
    }
   ],
   "source": [
    "from sklearn.preprocessing import StandardScaler, OneHotEncoder\n",
    "from sklearn.impute import SimpleImputer\n",
    "from sklearn.compose import ColumnTransformer\n",
    "from sklearn.pipeline import Pipeline\n",
    "\n",
    "# Mengidentifikasi kolom numerik\n",
    "kolom_numerik = data.select_dtypes(include=['int64', 'float64']).columns.tolist()\n",
    "kolom_numerik.remove('Outcome')  # Menghapus kolom target dari daftar kolom numerik\n",
    "\n",
    "# Pipeline prapemrosesan untuk data numerik\n",
    "transformer_numerik = Pipeline(steps=[\n",
    "    ('imputer', SimpleImputer(strategy='mean')),\n",
    "    ('scaler', StandardScaler())\n",
    "])\n",
    "\n",
    "# Menggabungkan pipeline prapemrosesan\n",
    "prapemrosesan = ColumnTransformer(\n",
    "    transformers=[\n",
    "        ('num', transformer_numerik, kolom_numerik)\n",
    "    ])\n",
    "\n",
    "# Menerapkan prapemrosesan\n",
    "data_prapemrosesan = prapemrosesan.fit_transform(data)\n",
    "\n",
    "# Memeriksa hasil prapemrosesan\n",
    "print(data_prapemrosesan.shape)\n"
   ]
  },
  {
   "cell_type": "code",
   "execution_count": 12,
   "metadata": {},
   "outputs": [
    {
     "name": "stdout",
     "output_type": "stream",
     "text": [
      "Evaluasi Regresi Logistik: Akurasi=0.7532467532467533, Presisi=0.7553936387360154, Recall=0.7532467532467533, F1-Score=0.7541909620991253\n",
      "Evaluasi Pohon Keputusan: Akurasi=0.7532467532467533, Presisi=0.763649049363335, Recall=0.7532467532467533, F1-Score=0.7564164648910411\n",
      "Evaluasi Naive Bayes: Akurasi=0.7662337662337663, Presisi=0.7706639480056073, Recall=0.7662337662337663, F1-Score=0.7679249670568173\n",
      "Model terbaik adalah Naive Bayes dengan evaluasi: Akurasi=0.7662337662337663, Presisi=0.7706639480056073, Recall=0.7662337662337663, F1-Score=0.7679249670568173\n",
      "Model terbaik (Naive Bayes) telah disimpan sebagai 'model_terbaik.sav'\n"
     ]
    }
   ],
   "source": [
    "from sklearn.model_selection import train_test_split\n",
    "from sklearn.linear_model import LogisticRegression\n",
    "from sklearn.tree import DecisionTreeClassifier\n",
    "from sklearn.naive_bayes import GaussianNB\n",
    "from sklearn.metrics import accuracy_score, precision_score, recall_score, f1_score\n",
    "import pickle\n",
    "\n",
    "# Misalkan target adalah kolom 'Outcome'\n",
    "X = data_prapemrosesan\n",
    "y = data['Outcome']\n",
    "\n",
    "# Membagi dataset menjadi set pelatihan dan pengujian\n",
    "X_train, X_test, y_train, y_test = train_test_split(X, y, test_size=0.2, random_state=42)\n",
    "\n",
    "# Melatih model Regresi Logistik\n",
    "model_lr = LogisticRegression()\n",
    "model_lr.fit(X_train, y_train)\n",
    "pred_lr = model_lr.predict(X_test)\n",
    "\n",
    "# Melatih model Pohon Keputusan\n",
    "model_dt = DecisionTreeClassifier()\n",
    "model_dt.fit(X_train, y_train)\n",
    "pred_dt = model_dt.predict(X_test)\n",
    "\n",
    "# Melatih model Naive Bayes\n",
    "model_nb = GaussianNB()\n",
    "model_nb.fit(X_train, y_train)\n",
    "pred_nb = model_nb.predict(X_test)\n",
    "\n",
    "# Evaluasi kinerja model\n",
    "def evaluasi_model(y_test, prediksi):\n",
    "    akurasi = accuracy_score(y_test, prediksi)\n",
    "    presisi = precision_score(y_test, prediksi, average='weighted')\n",
    "    recall = recall_score(y_test, prediksi, average='weighted')\n",
    "    f1 = f1_score(y_test, prediksi, average='weighted')\n",
    "    return akurasi, presisi, recall, f1\n",
    "\n",
    "# Evaluasi model Regresi Logistik\n",
    "evaluasi_lr = evaluasi_model(y_test, pred_lr)\n",
    "print(f\"Evaluasi Regresi Logistik: Akurasi={evaluasi_lr[0]}, Presisi={evaluasi_lr[1]}, Recall={evaluasi_lr[2]}, F1-Score={evaluasi_lr[3]}\")\n",
    "\n",
    "# Evaluasi model Pohon Keputusan\n",
    "evaluasi_dt = evaluasi_model(y_test, pred_dt)\n",
    "print(f\"Evaluasi Pohon Keputusan: Akurasi={evaluasi_dt[0]}, Presisi={evaluasi_dt[1]}, Recall={evaluasi_dt[2]}, F1-Score={evaluasi_dt[3]}\")\n",
    "\n",
    "# Evaluasi model Naive Bayes\n",
    "evaluasi_nb = evaluasi_model(y_test, pred_nb)\n",
    "print(f\"Evaluasi Naive Bayes: Akurasi={evaluasi_nb[0]}, Presisi={evaluasi_nb[1]}, Recall={evaluasi_nb[2]}, F1-Score={evaluasi_nb[3]}\")\n",
    "\n",
    "# Memilih model terbaik berdasarkan F1-score\n",
    "model_evaluations = {\n",
    "    'Logistic Regression': evaluasi_lr,\n",
    "    'Decision Tree': evaluasi_dt,\n",
    "    'Naive Bayes': evaluasi_nb\n",
    "}\n",
    "\n",
    "best_model_name = max(model_evaluations, key=lambda k: model_evaluations[k][3])\n",
    "best_model = {'Logistic Regression': model_lr, 'Decision Tree': model_dt, 'Naive Bayes': model_nb}[best_model_name]\n",
    "best_model_evaluation = model_evaluations[best_model_name]\n",
    "\n",
    "print(f\"Model terbaik adalah {best_model_name} dengan evaluasi: Akurasi={best_model_evaluation[0]}, Presisi={best_model_evaluation[1]}, Recall={best_model_evaluation[2]}, F1-Score={best_model_evaluation[3]}\")\n",
    "\n",
    "# Menyimpan model terbaik ke dalam file menggunakan pickle dengan ekstensi .sav\n",
    "with open('model_terbaik.sav', 'wb') as file:\n",
    "    pickle.dump(best_model, file)\n",
    "\n",
    "print(f\"Model terbaik ({best_model_name}) telah disimpan sebagai 'model_terbaik.sav'\")\n"
   ]
  }
 ],
 "metadata": {
  "kernelspec": {
   "display_name": "Python 3",
   "language": "python",
   "name": "python3"
  },
  "language_info": {
   "codemirror_mode": {
    "name": "ipython",
    "version": 3
   },
   "file_extension": ".py",
   "mimetype": "text/x-python",
   "name": "python",
   "nbconvert_exporter": "python",
   "pygments_lexer": "ipython3",
   "version": "3.11.9"
  }
 },
 "nbformat": 4,
 "nbformat_minor": 2
}
